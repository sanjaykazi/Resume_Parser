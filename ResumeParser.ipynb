{
 "cells": [
  {
   "cell_type": "markdown",
   "metadata": {},
   "source": [
    "# Resume parser\n",
    "### By: Sanjay Kazi"
   ]
  },
  {
   "cell_type": "markdown",
   "metadata": {},
   "source": [
    "### This code uses ```pyresparser library```  and ```Prompt API```to process and extract data from the pdf, docx and txt files."
   ]
  },
  {
   "cell_type": "markdown",
   "metadata": {},
   "source": [
    "## Data required to be extracted\n",
    "\n",
    "1. Name\n",
    "2. Phone Number\n",
    "3. Email Address\n",
    "4. Graduation Degree\n",
    "5. Institute of Graduation\n",
    "6. year of Graduation\n",
    "7. Work Experience \n",
    "8. Skills "
   ]
  },
  {
   "cell_type": "markdown",
   "metadata": {},
   "source": [
    "## Dependencies\n",
    "\n",
    "- to install pyresparser use command \n",
    "    ```pip install pyresparser```\n",
    "- For Natural Language Proessing nltk and spacy has been used\n",
    "- spaCy\n",
    "```python -m spacy download en_core_web_sm```\n",
    "\n",
    "- nltk\n",
    "```python -m nltk.downloader words```\n",
    "\n",
    "- I have provided my api key to run the test codes, while parsing from api the file must be available in public domain and we need to parse that url"
   ]
  },
  {
   "cell_type": "code",
   "execution_count": 1,
   "metadata": {},
   "outputs": [
    {
     "name": "stderr",
     "output_type": "stream",
     "text": [
      "/home/sanjay/anaconda3/lib/python3.7/site-packages/spacy/util.py:275: UserWarning: [W031] Model 'en_training' (0.0.0) requires spaCy v2.1 and is incompatible with the current spaCy version (2.3.5). This may lead to unexpected results or runtime errors. To resolve this, download a newer compatible model or retrain your custom model with the current spaCy version. For more details and available updates, run: python -m spacy validate\n",
      "  warnings.warn(warn_msg)\n"
     ]
    }
   ],
   "source": [
    "from pyresparser import ResumeParser\n",
    "data = ResumeParser('san_cv.pdf').get_extracted_data()"
   ]
  },
  {
   "cell_type": "code",
   "execution_count": 2,
   "metadata": {},
   "outputs": [
    {
     "name": "stdout",
     "output_type": "stream",
     "text": [
      "{'name': 'Sanjay Kazi', 'email': 'sanjaykazi1149@gmail.com', 'mobile_number': '7295038827', 'skills': ['Github', 'R', 'Sql', 'Html', 'Analysis', 'Mathematics', 'International', 'Calculus', 'Training', 'Programming', 'Theano', 'Analytics', 'Autocad', 'Security', 'Budget', 'C++', 'Spark', 'Api', 'Keras', 'Xgboost', 'Sports', 'Pr', 'Javascript', 'Visual', 'Data analysis', 'Algorithms', 'Finance', 'Datasets', 'Hospitality', 'Python', 'English', 'Css', 'Engineering', 'Aws', 'Linux', 'Architecture', 'Cloud', 'Excel', 'Matlab', 'Interactive'], 'college_name': None, 'degree': ['Bachelor of Technology (B.Tech), Metalurgical Engineering And Materiral\\nScience'], 'designation': ['Hospitality & PR Coordinator'], 'experience': None, 'company_names': None, 'no_of_pages': 4, 'total_experience': 0}\n"
     ]
    }
   ],
   "source": [
    "print(data)"
   ]
  },
  {
   "cell_type": "code",
   "execution_count": 3,
   "metadata": {},
   "outputs": [],
   "source": [
    "# dictionary to map task keywords\n",
    "dictionary = {'Name' : 'name','Phone NUmber' : 'mobile_number','Email Address': 'email','Graduation Degree':'degree',\n",
    "       'Institute of Graduation':'college_name','Work Experience':'experience','Skills':'skills'}"
   ]
  },
  {
   "cell_type": "code",
   "execution_count": 4,
   "metadata": {},
   "outputs": [],
   "source": [
    "# function to print the data systematically\n",
    "def printdata(data):\n",
    "    for key,value in dictionary.items():\n",
    "        print(key, ':', data[value])"
   ]
  },
  {
   "cell_type": "code",
   "execution_count": 5,
   "metadata": {},
   "outputs": [
    {
     "name": "stdout",
     "output_type": "stream",
     "text": [
      "Name : Sanjay Kazi\n",
      "Phone NUmber : 7295038827\n",
      "Email Address : sanjaykazi1149@gmail.com\n",
      "Graduation Degree : ['Bachelor of Technology (B.Tech), Metalurgical Engineering And Materiral\\nScience']\n",
      "Institute of Graduation : None\n",
      "Work Experience : None\n",
      "Skills : ['Github', 'R', 'Sql', 'Html', 'Analysis', 'Mathematics', 'International', 'Calculus', 'Training', 'Programming', 'Theano', 'Analytics', 'Autocad', 'Security', 'Budget', 'C++', 'Spark', 'Api', 'Keras', 'Xgboost', 'Sports', 'Pr', 'Javascript', 'Visual', 'Data analysis', 'Algorithms', 'Finance', 'Datasets', 'Hospitality', 'Python', 'English', 'Css', 'Engineering', 'Aws', 'Linux', 'Architecture', 'Cloud', 'Excel', 'Matlab', 'Interactive']\n"
     ]
    }
   ],
   "source": [
    "printdata(data)"
   ]
  },
  {
   "cell_type": "markdown",
   "metadata": {},
   "source": [
    "### Resume parsing is typically tough Natural Language processing task as there is no fixed formet of date and file types\n"
   ]
  },
  {
   "cell_type": "markdown",
   "metadata": {},
   "source": [
    "## Using ```Prompt API```, a pdf file accessible from public domain can be parsed and required details can be extracted"
   ]
  },
  {
   "cell_type": "code",
   "execution_count": null,
   "metadata": {},
   "outputs": [],
   "source": [
    "import requests\n",
    "\n",
    "url = \"https://api.promptapi.com/resume_parser/url?url=https%3A%2F%2Fwriting.colostate.edu%2Fguides%2Fdocuments%2Fresume%2FfunctionalSample.pdf\"\n",
    "\n",
    "payload = {}\n",
    "headers= {\n",
    "  \"apikey\": \"oeTNHaj8gkJMLyU6F97clXw4y6oQUx3d\"\n",
    "}\n",
    "\n",
    "response = requests.request(\"GET\", url, headers=headers, data = payload)\n",
    "\n",
    "status_code = response.status_code\n",
    "result = response.text"
   ]
  },
  {
   "cell_type": "code",
   "execution_count": null,
   "metadata": {},
   "outputs": [],
   "source": [
    "print(result)"
   ]
  },
  {
   "cell_type": "code",
   "execution_count": null,
   "metadata": {},
   "outputs": [],
   "source": [
    "print(status_code)"
   ]
  },
  {
   "cell_type": "code",
   "execution_count": null,
   "metadata": {},
   "outputs": [],
   "source": []
  },
  {
   "cell_type": "code",
   "execution_count": null,
   "metadata": {},
   "outputs": [],
   "source": []
  }
 ],
 "metadata": {
  "kernelspec": {
   "display_name": "Python 3",
   "language": "python",
   "name": "python3"
  },
  "language_info": {
   "codemirror_mode": {
    "name": "ipython",
    "version": 3
   },
   "file_extension": ".py",
   "mimetype": "text/x-python",
   "name": "python",
   "nbconvert_exporter": "python",
   "pygments_lexer": "ipython3",
   "version": "3.7.6"
  }
 },
 "nbformat": 4,
 "nbformat_minor": 4
}
